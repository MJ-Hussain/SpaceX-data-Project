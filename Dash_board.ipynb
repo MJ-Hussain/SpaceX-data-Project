{
 "cells": [
  {
   "cell_type": "code",
   "execution_count": 1,
   "id": "134c2ec6-3c21-4771-9726-1e04d551d3bd",
   "metadata": {},
   "outputs": [],
   "source": [
    "# Import required libraries\n",
    "import pandas as pd\n",
    "import dash\n",
    "from dash import html\n",
    "from dash import dcc\n",
    "from dash.dependencies import Input, Output\n",
    "import plotly.express as px\n",
    "import jupyter_dash\n",
    "from jupyter_dash import JupyterDash"
   ]
  },
  {
   "cell_type": "code",
   "execution_count": 2,
   "id": "d53bb91c-70f6-4a00-aedc-3af77d06f92c",
   "metadata": {},
   "outputs": [
    {
     "data": {
      "text/html": [
       "\n",
       "        <iframe\n",
       "            width=\"100%\"\n",
       "            height=\"650\"\n",
       "            src=\"http://127.0.0.1:8050/\"\n",
       "            frameborder=\"0\"\n",
       "            allowfullscreen\n",
       "            \n",
       "        ></iframe>\n",
       "        "
      ],
      "text/plain": [
       "<IPython.lib.display.IFrame at 0x186e4247610>"
      ]
     },
     "metadata": {},
     "output_type": "display_data"
    }
   ],
   "source": [
    "\n",
    "\n",
    "# Read the airline data into pandas dataframe\n",
    "spacex_df = pd.read_csv(\"spacex_launch_dash.csv\")\n",
    "max_payload = spacex_df['Payload Mass (kg)'].max()\n",
    "min_payload = spacex_df['Payload Mass (kg)'].min()\n",
    "\n",
    "# Create a dash application\n",
    "app = JupyterDash(__name__)\n",
    "\n",
    "# Create an app layout\n",
    "app.layout = html.Div(children=[html.H1('SpaceX Launch Records Dashboard',\n",
    "                                        style={'textAlign': 'center', 'color': '#503D36',\n",
    "                                               'font-size': 40}),\n",
    "                                # TASK 1: Add a dropdown list to enable Launch Site selection\n",
    "                                # The default select value is for ALL sites\n",
    "                                dcc.Dropdown(id='site-dropdown', options=[\n",
    "                                    {'label':'All Sites', 'value':'ALL'},\n",
    "                                    {'label':'CCAFS LC-40','value':'CCAFS LC-40'},\n",
    "                                    {'label':'VAFB SLC-4E','value':'VAFB SLC-4E'},\n",
    "                                    {'label':'KSC LC-39A','value':'KSC LC-39A'},\n",
    "                                    {'label':'CCAFS SLC-40','value':'CCAFS SLC-40'},\n",
    "                                ],\n",
    "                                value='ALL',\n",
    "                                placeholder=\"Select a Launch Site here\",\n",
    "                                searchable=True\n",
    "                                ),\n",
    "                                html.Br(),\n",
    "\n",
    "                                # TASK 2: Add a pie chart to show the total successful launches count for all sites\n",
    "                                # If a specific launch site was selected, show the Success vs. Failed counts for the site\n",
    "                                html.Div(dcc.Graph(id='success-pie-chart')),\n",
    "                                html.Br(),\n",
    "\n",
    "                                html.P(\"Payload range (Kg):\"),\n",
    "                                # TASK 3: Add a slider to select payload range\n",
    "                                dcc.RangeSlider(id='payload-slider',min=0,max=10000, step=1000,\n",
    "                                            marks={0:'0',100:'100'},\n",
    "                                            value=[min_payload, max_payload]),\n",
    "\n",
    "                                # TASK 4: Add a scatter chart to show the correlation between payload and launch success\n",
    "                                html.Div(dcc.Graph(id='success-payload-scatter-chart')),\n",
    "                                html.Br(),\n",
    "                                ])\n",
    "\n",
    "# TASK 2:\n",
    "# Add a callback function for `site-dropdown` as input, `success-pie-chart` as output\n",
    "@app.callback(Output(component_id='success-pie-chart',component_property='figure'),\n",
    "    Input(component_id='site-dropdown',component_property='value'))\n",
    "def get_pie_chart(entered_site):\n",
    "    filtered_df=spacex_df\n",
    "    if entered_site=='ALL':\n",
    "        fig=px.pie(data_frame=spacex_df, values='class',names='Launch Site',title='Total Success Launches by site')\n",
    "        return fig\n",
    "    else:\n",
    "        value_class=spacex_df[spacex_df['Launch Site']==entered_site]['class'].value_counts()\n",
    "        fig=px.pie(values=value_class,names=value_class.index ,title='Total Success Launches for site '+entered_site)\n",
    "        return fig   \n",
    "# TASK 4:\n",
    "\n",
    "# Add a callback function for `site-dropdown` and `payload-slider` as inputs, `success-payload-scatter-chart` as output\n",
    "@app.callback(\n",
    "    Output(component_id='success-payload-scatter-chart',\n",
    "    component_property='figure'),\n",
    "    [\n",
    "    Input(component_id='site-dropdown',component_property='value'),\n",
    "    Input(component_id='payload-slider', component_property='value')\n",
    "    ]\n",
    ")\n",
    "def get_scatter_chart(entered_site, payload_mass):\n",
    "    filtered_df=spacex_df\n",
    "    if entered_site=='ALL':\n",
    "        mask=(spacex_df['Payload Mass (kg)']>payload_mass[0]) & (spacex_df['Payload Mass (kg)']<payload_mass[1])\n",
    "        fig=px.scatter(data_frame=spacex_df[mask], x='Payload Mass (kg)',y='class',color='Booster Version Category',\n",
    "                       title='Correlation between Payload and Success of all Sites')\n",
    "        return fig\n",
    "    else:\n",
    "        mask=(spacex_df['Payload Mass (kg)']>payload_mass[0]) & (spacex_df['Payload Mass (kg)']<payload_mass[1]) & (spacex_df['Launch Site']==entered_site)\n",
    "        fig=px.scatter(data_frame=spacex_df[mask], x='Payload Mass (kg)',y='class',color='Booster Version Category',\n",
    "                       title='Correlation between Payload and Success of '+ entered_site)\n",
    "        return fig  \n",
    "# Run the app\n",
    "if __name__ == '__main__':\n",
    "    app.run_server(mode='inline')\n"
   ]
  },
  {
   "cell_type": "code",
   "execution_count": null,
   "id": "a5e58e35-9656-49ba-a864-8fd166f64162",
   "metadata": {},
   "outputs": [],
   "source": []
  }
 ],
 "metadata": {
  "kernelspec": {
   "display_name": "Python 3 (ipykernel)",
   "language": "python",
   "name": "python3"
  },
  "language_info": {
   "codemirror_mode": {
    "name": "ipython",
    "version": 3
   },
   "file_extension": ".py",
   "mimetype": "text/x-python",
   "name": "python",
   "nbconvert_exporter": "python",
   "pygments_lexer": "ipython3",
   "version": "3.8.13"
  }
 },
 "nbformat": 4,
 "nbformat_minor": 5
}
